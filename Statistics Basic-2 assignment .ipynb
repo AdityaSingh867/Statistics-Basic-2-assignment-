{
 "cells": [
  {
   "cell_type": "markdown",
   "id": "9d7ba37e-a3ca-47f6-8f2f-37ab575ce7c1",
   "metadata": {},
   "source": [
    "Q1. What are the three measures of central tendency ?"
   ]
  },
  {
   "cell_type": "markdown",
   "id": "500f29b2-ce10-456b-bef8-db2433658c55",
   "metadata": {},
   "source": [
    "mean , median , mode"
   ]
  },
  {
   "cell_type": "markdown",
   "id": "8c1d0ba5-a5ca-436d-98e7-a23ea23b5437",
   "metadata": {},
   "source": [
    "Q2. What is the difference between the mean, median, and mode? How are they used to measure the\n",
    "central tendency of a dataset ?"
   ]
  },
  {
   "cell_type": "markdown",
   "id": "4f10ca0b-019b-45bc-accb-547ac05f457e",
   "metadata": {},
   "source": [
    "mean - mean always give average of data (numerical data)."
   ]
  },
  {
   "cell_type": "markdown",
   "id": "f32580aa-cde0-480a-97d9-6aec0c0e26aa",
   "metadata": {},
   "source": [
    "median - median give the center data of any data but in median there is tow type odd number of data and even number of data.\n",
    "\n",
    "if odd number of data is given then median is the average of two center data.\n",
    "\n",
    "if even number of data is given then median is simply the middle one data."
   ]
  },
  {
   "cell_type": "markdown",
   "id": "3d8751ab-dc4f-436f-aada-9da60cfa705d",
   "metadata": {},
   "source": [
    "mode - mode gives us a frequency of number . how many times the number is occoure ."
   ]
  },
  {
   "cell_type": "code",
   "execution_count": 19,
   "id": "2517c139-108a-460f-8e02-7fd3cb3628b4",
   "metadata": {},
   "outputs": [],
   "source": [
    "data_odd = [1,2,3,4,5,6,7,8,9]\n",
    "data_even = [1,2,3,4,5,6,7,8]\n",
    "data = [3,3,3,3,4,4,4,4,44,45,5,5,5,5,55,5,6,6,7,8,8,87,54,677]\n",
    "data_2 = [3465,346,134,545,867923,541,34214,7]"
   ]
  },
  {
   "cell_type": "code",
   "execution_count": 37,
   "id": "e167b5c5-53e3-4a8c-84c6-cbb9a4b3b4b6",
   "metadata": {},
   "outputs": [],
   "source": [
    "import numpy as np"
   ]
  },
  {
   "cell_type": "code",
   "execution_count": 17,
   "id": "62371443-eb1d-43b0-b625-39d88a7191c0",
   "metadata": {},
   "outputs": [
    {
     "data": {
      "text/plain": [
       "113396.875"
      ]
     },
     "execution_count": 17,
     "metadata": {},
     "output_type": "execute_result"
    }
   ],
   "source": [
    "np.mean(data_2)"
   ]
  },
  {
   "cell_type": "code",
   "execution_count": 13,
   "id": "11481787-a954-4a75-ae4f-79502babfe94",
   "metadata": {},
   "outputs": [
    {
     "data": {
      "text/plain": [
       "5.0"
      ]
     },
     "execution_count": 13,
     "metadata": {},
     "output_type": "execute_result"
    }
   ],
   "source": [
    "np.median(data_odd)"
   ]
  },
  {
   "cell_type": "code",
   "execution_count": 15,
   "id": "f6947ec2-bd1d-4332-b0dc-e1baf8af4694",
   "metadata": {},
   "outputs": [
    {
     "data": {
      "text/plain": [
       "4.5"
      ]
     },
     "execution_count": 15,
     "metadata": {},
     "output_type": "execute_result"
    }
   ],
   "source": [
    "np.median(data_even)"
   ]
  },
  {
   "cell_type": "code",
   "execution_count": 38,
   "id": "e26a3506-93f2-48e1-9f22-bb2025950269",
   "metadata": {},
   "outputs": [],
   "source": [
    "from scipy import stats"
   ]
  },
  {
   "cell_type": "code",
   "execution_count": 25,
   "id": "dfd850b1-cf66-46cc-8708-9b3c59366027",
   "metadata": {},
   "outputs": [
    {
     "name": "stderr",
     "output_type": "stream",
     "text": [
      "/tmp/ipykernel_351/3267261142.py:1: FutureWarning: Unlike other reduction functions (e.g. `skew`, `kurtosis`), the default behavior of `mode` typically preserves the axis it acts along. In SciPy 1.11.0, this behavior will change: the default value of `keepdims` will become False, the `axis` over which the statistic is taken will be eliminated, and the value None will no longer be accepted. Set `keepdims` to True or False to avoid this warning.\n",
      "  stats.mode(data)\n"
     ]
    },
    {
     "data": {
      "text/plain": [
       "ModeResult(mode=array([5]), count=array([5]))"
      ]
     },
     "execution_count": 25,
     "metadata": {},
     "output_type": "execute_result"
    }
   ],
   "source": [
    "stats.mode(data)"
   ]
  },
  {
   "cell_type": "markdown",
   "id": "1e696eb4-84b0-4f36-a0fb-cf0ee6ea2aae",
   "metadata": {},
   "source": [
    "Q3. Measure the three measures of central tendency for the given height data:"
   ]
  },
  {
   "cell_type": "code",
   "execution_count": 26,
   "id": "4e6fe720-9621-484d-ba56-fcb8cdb0e358",
   "metadata": {},
   "outputs": [],
   "source": [
    "d = [178,177,176,177,178.2,178,175,179,180,175,178.9,176.2,177,172.5,178,176.5]"
   ]
  },
  {
   "cell_type": "code",
   "execution_count": 27,
   "id": "52cde3ba-6e67-4bc0-9ce5-dec0ac67ec82",
   "metadata": {},
   "outputs": [
    {
     "data": {
      "text/plain": [
       "177.0"
      ]
     },
     "execution_count": 27,
     "metadata": {},
     "output_type": "execute_result"
    }
   ],
   "source": [
    "np.median(d)"
   ]
  },
  {
   "cell_type": "code",
   "execution_count": 28,
   "id": "d4b00863-0aa9-4acf-924b-8f72d05af4f3",
   "metadata": {},
   "outputs": [
    {
     "data": {
      "text/plain": [
       "177.01875"
      ]
     },
     "execution_count": 28,
     "metadata": {},
     "output_type": "execute_result"
    }
   ],
   "source": [
    "np.mean(d)"
   ]
  },
  {
   "cell_type": "code",
   "execution_count": 29,
   "id": "7b5f896f-60f9-47ef-97b4-e397b0c49869",
   "metadata": {},
   "outputs": [
    {
     "name": "stderr",
     "output_type": "stream",
     "text": [
      "/tmp/ipykernel_351/3857837850.py:1: FutureWarning: Unlike other reduction functions (e.g. `skew`, `kurtosis`), the default behavior of `mode` typically preserves the axis it acts along. In SciPy 1.11.0, this behavior will change: the default value of `keepdims` will become False, the `axis` over which the statistic is taken will be eliminated, and the value None will no longer be accepted. Set `keepdims` to True or False to avoid this warning.\n",
      "  stats.mode(d)\n"
     ]
    },
    {
     "data": {
      "text/plain": [
       "ModeResult(mode=array([177.]), count=array([3]))"
      ]
     },
     "execution_count": 29,
     "metadata": {},
     "output_type": "execute_result"
    }
   ],
   "source": [
    "stats.mode(d)"
   ]
  },
  {
   "cell_type": "markdown",
   "id": "e3f38d2c-2424-45ed-87cc-14855df8d20d",
   "metadata": {},
   "source": [
    "Q4. Find the standard deviation for the given data:"
   ]
  },
  {
   "cell_type": "code",
   "execution_count": 35,
   "id": "7f39c88f-e293-437f-86b7-08f2986e61d8",
   "metadata": {},
   "outputs": [],
   "source": [
    "s = [178,177,176,177,178.2,178,175,179,180,175,178.9,176.2,177,172.5,178,176.5]"
   ]
  },
  {
   "cell_type": "code",
   "execution_count": 36,
   "id": "1b4c9fbc-f4aa-4ab7-b59d-8fc19904a9e4",
   "metadata": {},
   "outputs": [
    {
     "data": {
      "text/plain": [
       "1.7885814036548633"
      ]
     },
     "execution_count": 36,
     "metadata": {},
     "output_type": "execute_result"
    }
   ],
   "source": [
    "np.std(s)"
   ]
  },
  {
   "cell_type": "markdown",
   "id": "3e4245a6-d932-4e0e-b7e4-117bbfea3b2d",
   "metadata": {},
   "source": [
    "Q5. How are measures of dispersion such as range, variance, and standard deviation used to describe\n",
    "the spread of a dataset? Provide an example."
   ]
  },
  {
   "cell_type": "code",
   "execution_count": 39,
   "id": "c17b14e8-4140-4e39-a8c8-92cf36e2502d",
   "metadata": {},
   "outputs": [],
   "source": [
    "s1 = [178,177,176,177,178.2,178,175,179,180,175,178.9,17]"
   ]
  },
  {
   "cell_type": "code",
   "execution_count": 40,
   "id": "0ecec897-2025-49da-a6c1-0aabe1df9e27",
   "metadata": {},
   "outputs": [
    {
     "data": {
      "text/plain": [
       "1969.1290972222223"
      ]
     },
     "execution_count": 40,
     "metadata": {},
     "output_type": "execute_result"
    }
   ],
   "source": [
    "np.var(s1)"
   ]
  },
  {
   "cell_type": "code",
   "execution_count": 41,
   "id": "7d22470a-d600-4626-b379-ac6a1478a9fe",
   "metadata": {},
   "outputs": [
    {
     "data": {
      "text/plain": [
       "44.37487010935607"
      ]
     },
     "execution_count": 41,
     "metadata": {},
     "output_type": "execute_result"
    }
   ],
   "source": [
    "np.std(s1)"
   ]
  },
  {
   "cell_type": "code",
   "execution_count": 42,
   "id": "f0d7b874-804a-447f-9ba8-6804dd60d279",
   "metadata": {},
   "outputs": [
    {
     "data": {
      "text/plain": [
       "163.0"
      ]
     },
     "execution_count": 42,
     "metadata": {},
     "output_type": "execute_result"
    }
   ],
   "source": [
    "np.ptp(s1)"
   ]
  },
  {
   "cell_type": "markdown",
   "id": "c1e0a726-936a-4bf2-b84f-20bd45b2bb3d",
   "metadata": {},
   "source": [
    "Q6. What is a Venn diagram ?"
   ]
  },
  {
   "cell_type": "markdown",
   "id": "1c676590-0fe4-44e7-9a2f-c1f8da5cb3a4",
   "metadata": {},
   "source": [
    "A Venn diagram ake or provide the relationships between two or more data sets."
   ]
  },
  {
   "cell_type": "markdown",
   "id": "e07641e5-fb80-4082-8309-553829decaae",
   "metadata": {},
   "source": [
    "Q7. For the two given sets A = (2,3,4,5,6,7) & B = (0,2,6,8,10). Find:\n",
    "    \n",
    "(i) A intersection B\n",
    "\n",
    "(ii) A ⋃ B"
   ]
  },
  {
   "cell_type": "markdown",
   "id": "5d58a4fa-099c-4870-984f-1b2b6a5477ef",
   "metadata": {},
   "source": [
    "(i) -- (2,6)\n",
    "\n",
    "(ii) -- (0,2,3,4,5,6,7,8,10)"
   ]
  },
  {
   "cell_type": "markdown",
   "id": "e5280918-feb7-4f4d-bc51-5ecc65da5aaf",
   "metadata": {},
   "source": [
    "Q8. What do you understand about skewness in data ?"
   ]
  },
  {
   "cell_type": "markdown",
   "id": "716c0e40-eede-481c-ac62-759a5f9e889f",
   "metadata": {},
   "source": [
    "Skewness is a measure of the asymmetry of a distribution."
   ]
  },
  {
   "cell_type": "markdown",
   "id": "b6d58ad1-87f8-4365-933b-bd1e260d234c",
   "metadata": {},
   "source": [
    "Q9. If a data is right skewed then what will be the position of median with respect to mean?"
   ]
  },
  {
   "cell_type": "markdown",
   "id": "279d6e5b-6599-4c4f-a732-259f8be54712",
   "metadata": {},
   "source": [
    "mean < medain "
   ]
  },
  {
   "cell_type": "markdown",
   "id": "51698a22-c049-4b64-873b-3afceb4d92f1",
   "metadata": {},
   "source": [
    "Q10. Explain the difference between covariance and correlation. How are these measures used in\n",
    "statistical analysis ?"
   ]
  },
  {
   "cell_type": "markdown",
   "id": "1d57d1ea-a35f-41f1-ae8d-5245900ad730",
   "metadata": {},
   "source": [
    "the range of covariance is could be any number is negative or positive number (- inf , + inf), but the range of correlation is only in the range of -1 to +1."
   ]
  },
  {
   "cell_type": "markdown",
   "id": "97ddfd18-5eea-4482-8bf8-2f4fdb89cd09",
   "metadata": {},
   "source": [
    "covariance is measures the strenght of the variables under comparison.\n",
    "\n",
    "correlation measures the extend of the change in one with regards to change in other."
   ]
  },
  {
   "cell_type": "markdown",
   "id": "c7b20a89-b72a-4561-bb28-c2d5f94b6eeb",
   "metadata": {},
   "source": [
    "Covariance is an indicator of the extent to which 2 random variables are dependent on each other. and it help to see and make the graph in very good manner."
   ]
  },
  {
   "cell_type": "markdown",
   "id": "713f0815-d5bb-47f5-9765-2a27b8f09471",
   "metadata": {},
   "source": [
    "Q11. What is the formula for calculating the sample mean? Provide an example calculation for a\n",
    "dataset."
   ]
  },
  {
   "cell_type": "markdown",
   "id": "4636d389-f2b1-4698-a50f-b529c65817b8",
   "metadata": {},
   "source": [
    "x bar = (xi)/n"
   ]
  },
  {
   "cell_type": "code",
   "execution_count": 48,
   "id": "e7362a9d-1c5f-47f5-b5c1-30006c32459e",
   "metadata": {},
   "outputs": [],
   "source": [
    "f = [1,2,3,4]"
   ]
  },
  {
   "cell_type": "markdown",
   "id": "8452e996-f2e8-4180-b4b4-d382067f75eb",
   "metadata": {},
   "source": [
    "xi = 1 , n = 4"
   ]
  },
  {
   "cell_type": "markdown",
   "id": "417e473e-bcde-49be-846b-1ead52b4c304",
   "metadata": {},
   "source": [
    "xi = 2 , n = 4"
   ]
  },
  {
   "cell_type": "markdown",
   "id": "f1d82065-e565-4109-b1c7-e45ea71ab1d3",
   "metadata": {},
   "source": [
    "xi = 3 , n = 4"
   ]
  },
  {
   "cell_type": "markdown",
   "id": "39891295-432f-47c6-a2a0-ef482b09ed25",
   "metadata": {},
   "source": [
    "xi = 4 , n = 4"
   ]
  },
  {
   "cell_type": "markdown",
   "id": "937541a5-e649-418b-87bb-088a20e6b11f",
   "metadata": {},
   "source": [
    "x bar = 1/4 + 2/4 + 3/4 + 4/4"
   ]
  },
  {
   "cell_type": "markdown",
   "id": "5e2b74eb-110e-4316-aff7-500a75b2e2d1",
   "metadata": {},
   "source": [
    "x bar = 2.5"
   ]
  },
  {
   "cell_type": "markdown",
   "id": "d446275b-0a73-4e92-94d6-fdff1618a8d6",
   "metadata": {},
   "source": [
    "Q12. For a normal distribution data what is the relationship between its measure of central tendency?"
   ]
  },
  {
   "cell_type": "code",
   "execution_count": 51,
   "id": "fd9ecd5b-c2ef-4be6-a166-70e4f2f33127",
   "metadata": {},
   "outputs": [],
   "source": [
    "l = [1,2,3,4,5]"
   ]
  },
  {
   "cell_type": "code",
   "execution_count": 52,
   "id": "a13e1eae-4931-4747-b60c-e44bc7a9d019",
   "metadata": {},
   "outputs": [
    {
     "data": {
      "text/plain": [
       "3.0"
      ]
     },
     "execution_count": 52,
     "metadata": {},
     "output_type": "execute_result"
    }
   ],
   "source": [
    "np.mean(l)"
   ]
  },
  {
   "cell_type": "code",
   "execution_count": 53,
   "id": "aecb0daa-b427-4e75-9d55-fcd790aca87c",
   "metadata": {},
   "outputs": [
    {
     "data": {
      "text/plain": [
       "3.0"
      ]
     },
     "execution_count": 53,
     "metadata": {},
     "output_type": "execute_result"
    }
   ],
   "source": [
    "np.median(l)"
   ]
  },
  {
   "cell_type": "code",
   "execution_count": 55,
   "id": "69766e24-ced4-4340-bcfd-84e2101cf83a",
   "metadata": {},
   "outputs": [
    {
     "name": "stderr",
     "output_type": "stream",
     "text": [
      "/tmp/ipykernel_351/2919890712.py:1: FutureWarning: Unlike other reduction functions (e.g. `skew`, `kurtosis`), the default behavior of `mode` typically preserves the axis it acts along. In SciPy 1.11.0, this behavior will change: the default value of `keepdims` will become False, the `axis` over which the statistic is taken will be eliminated, and the value None will no longer be accepted. Set `keepdims` to True or False to avoid this warning.\n",
      "  stats.mode(l)\n"
     ]
    },
    {
     "data": {
      "text/plain": [
       "ModeResult(mode=array([1]), count=array([1]))"
      ]
     },
     "execution_count": 55,
     "metadata": {},
     "output_type": "execute_result"
    }
   ],
   "source": [
    "stats.mode(l)"
   ]
  },
  {
   "cell_type": "markdown",
   "id": "baaf3527-97a8-49ca-bac8-33a7efd0b722",
   "metadata": {},
   "source": [
    "Q13. How is covariance different from correlation ?"
   ]
  },
  {
   "cell_type": "markdown",
   "id": "96d1714f-269b-4593-8ae0-d15cebce2bd9",
   "metadata": {},
   "source": [
    "covariance show you how two variables are different with each other where as correlation show you how two variable related to each other."
   ]
  },
  {
   "cell_type": "markdown",
   "id": "fb866903-bce7-4d25-a735-51bada0caad8",
   "metadata": {},
   "source": [
    "Q14. How do outliers affect measures of central tendency and dispersion? Provide an example."
   ]
  },
  {
   "cell_type": "code",
   "execution_count": 56,
   "id": "cdd2361a-f81c-4dfb-a873-e1de4075dd74",
   "metadata": {},
   "outputs": [],
   "source": [
    "# let i have a data\n",
    "\n",
    "data = [1,2,3,4,5,6,7,8,9]"
   ]
  },
  {
   "cell_type": "code",
   "execution_count": 59,
   "id": "efa50e21-4743-4449-b884-c9e030fb1811",
   "metadata": {},
   "outputs": [
    {
     "data": {
      "text/plain": [
       "5.0"
      ]
     },
     "execution_count": 59,
     "metadata": {},
     "output_type": "execute_result"
    }
   ],
   "source": [
    "# measures of central tendency and dispersion calculate without any type of outliers\n",
    "\n",
    "np.mean(data)"
   ]
  },
  {
   "cell_type": "code",
   "execution_count": 60,
   "id": "e4aec0fb-afa6-4f5b-8311-d1615bbd124a",
   "metadata": {},
   "outputs": [
    {
     "data": {
      "text/plain": [
       "5.0"
      ]
     },
     "execution_count": 60,
     "metadata": {},
     "output_type": "execute_result"
    }
   ],
   "source": [
    "np.median(data)"
   ]
  },
  {
   "cell_type": "code",
   "execution_count": 61,
   "id": "6e6cd5c6-f6a0-472b-b539-5b8b51efd684",
   "metadata": {},
   "outputs": [
    {
     "name": "stderr",
     "output_type": "stream",
     "text": [
      "/tmp/ipykernel_351/3267261142.py:1: FutureWarning: Unlike other reduction functions (e.g. `skew`, `kurtosis`), the default behavior of `mode` typically preserves the axis it acts along. In SciPy 1.11.0, this behavior will change: the default value of `keepdims` will become False, the `axis` over which the statistic is taken will be eliminated, and the value None will no longer be accepted. Set `keepdims` to True or False to avoid this warning.\n",
      "  stats.mode(data)\n"
     ]
    },
    {
     "data": {
      "text/plain": [
       "ModeResult(mode=array([1]), count=array([1]))"
      ]
     },
     "execution_count": 61,
     "metadata": {},
     "output_type": "execute_result"
    }
   ],
   "source": [
    "stats.mode(data)"
   ]
  },
  {
   "cell_type": "code",
   "execution_count": 62,
   "id": "de812b3a-3232-4393-9672-6e084eabee8c",
   "metadata": {},
   "outputs": [],
   "source": [
    "data = [1,2,3,4,5,6,7,8,9,253234]"
   ]
  },
  {
   "cell_type": "code",
   "execution_count": 64,
   "id": "fb9d5023-33a4-4c90-a8b1-af656b24fa0f",
   "metadata": {},
   "outputs": [
    {
     "data": {
      "text/plain": [
       "25327.9"
      ]
     },
     "execution_count": 64,
     "metadata": {},
     "output_type": "execute_result"
    }
   ],
   "source": [
    "# measures of central tendency and dispersion calculate with outliers\n",
    "\n",
    "np.mean(data)"
   ]
  },
  {
   "cell_type": "code",
   "execution_count": 65,
   "id": "5e88fef5-cd60-4186-a60e-9e21c44a1232",
   "metadata": {},
   "outputs": [
    {
     "data": {
      "text/plain": [
       "5.5"
      ]
     },
     "execution_count": 65,
     "metadata": {},
     "output_type": "execute_result"
    }
   ],
   "source": [
    "np.median(data)"
   ]
  },
  {
   "cell_type": "code",
   "execution_count": 66,
   "id": "660e99d2-a598-41a4-bc4b-c721ae233084",
   "metadata": {},
   "outputs": [
    {
     "name": "stderr",
     "output_type": "stream",
     "text": [
      "/tmp/ipykernel_351/3267261142.py:1: FutureWarning: Unlike other reduction functions (e.g. `skew`, `kurtosis`), the default behavior of `mode` typically preserves the axis it acts along. In SciPy 1.11.0, this behavior will change: the default value of `keepdims` will become False, the `axis` over which the statistic is taken will be eliminated, and the value None will no longer be accepted. Set `keepdims` to True or False to avoid this warning.\n",
      "  stats.mode(data)\n"
     ]
    },
    {
     "data": {
      "text/plain": [
       "ModeResult(mode=array([1]), count=array([1]))"
      ]
     },
     "execution_count": 66,
     "metadata": {},
     "output_type": "execute_result"
    }
   ],
   "source": [
    "stats.mode(data)"
   ]
  },
  {
   "cell_type": "code",
   "execution_count": null,
   "id": "5caf9228-deac-445f-9399-4f14e846b6d4",
   "metadata": {},
   "outputs": [],
   "source": []
  }
 ],
 "metadata": {
  "kernelspec": {
   "display_name": "Python 3 (ipykernel)",
   "language": "python",
   "name": "python3"
  },
  "language_info": {
   "codemirror_mode": {
    "name": "ipython",
    "version": 3
   },
   "file_extension": ".py",
   "mimetype": "text/x-python",
   "name": "python",
   "nbconvert_exporter": "python",
   "pygments_lexer": "ipython3",
   "version": "3.10.8"
  }
 },
 "nbformat": 4,
 "nbformat_minor": 5
}
